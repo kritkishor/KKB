{
 "cells": [
  {
   "cell_type": "markdown",
   "id": "1ac11881",
   "metadata": {},
   "source": [
    "# Problem 1: Auto-Encoders"
   ]
  },
  {
   "cell_type": "code",
   "execution_count": 1,
   "id": "bcf446b3",
   "metadata": {},
   "outputs": [],
   "source": [
    "import numpy as np\n",
    "import pandas as pd\n",
    "import matplotlib.pyplot as plt\n",
    "import seaborn as sns\n",
    "# Function to generate data \n",
    "def generate_data(n=5000, sigma=0.1):\n",
    "    np.random.seed(123)\n",
    "    # Create an array of 5000 rows and 31 columns populated with 0.0\n",
    "    X = np.zeros([n,30])\n",
    "    # Set the 0th column - X0 = 1\n",
    "    #X[:,0] = 1\n",
    "    # Set the first column - X1 = N(0,1) \n",
    "    X[:,0] = np.random.normal(0,1,n)\n",
    "    # Second Column - X2 = X1 + N(0,sigma^2)\n",
    "    X[:,1] = X[:,0] + np.random.normal(0,sigma,n)\n",
    "    # Third Column - X3 = X1 + N(0,sigma^2)\n",
    "    X[:,2] = X[:,0] + np.random.normal(0,sigma,n)\n",
    "    # And ith column Xi = X(i-1) + N(0,sigma^2)\n",
    "    for i in range(3,30):\n",
    "        X[:,i] = X[:,i-3] + np.random.normal(0,sigma,n)\n",
    "    # Return the populated matrix\n",
    "    return X"
   ]
  },
  {
   "cell_type": "code",
   "execution_count": 2,
   "id": "cd7a01e0",
   "metadata": {},
   "outputs": [],
   "source": [
    "# Q1 Loss\n",
    "def calculate_loss(X, F_X):\n",
    "    np.seterr(all='warn')\n",
    "    sum = 0\n",
    "    for i in range(len(X)):\n",
    "        #sum = sum + (np.linalg.norm(F_X[i,:]-X[i,:]))**2\n",
    "        for j in range(1,X.shape[1]):\n",
    "            sum = sum + (X[i,j] - F_X[i,j])**2\n",
    "    return sum/(X.shape[0]*X.shape[1])"
   ]
  },
  {
   "cell_type": "code",
   "execution_count": 3,
   "id": "d83317cb",
   "metadata": {
    "scrolled": true
   },
   "outputs": [],
   "source": [
    "def build_model(X,k,epoch,alpha):\n",
    "    # Come back here for other initialization techniques\n",
    "    # Random initialization\n",
    "    # Weights for input -> hidden layer\n",
    "    # dim = nodes * features\n",
    "    # Each row contains weights for that node\n",
    "    W_0 = np.random.rand(k,X.shape[1])\n",
    "    # Weights for hidden -> output layer\n",
    "    # dim = features * node\n",
    "    # Each row contains weights for that feature\n",
    "    W_1 = np.random.rand(X.shape[1],k)\n",
    "    # Variable to save final output\n",
    "    res = np.zeros(X.shape)\n",
    "    # loss\n",
    "    loss = 0\n",
    "    # Runs\n",
    "    for _ in range(epoch):\n",
    "        # Forward propagation:\n",
    "        # Input to hidden layer\n",
    "        # Y = W_0 . X\n",
    "        y = W_0.dot(X.T)\n",
    "        # Applyinh tanh\n",
    "        # Each row holds values of a node for all data points\n",
    "        Y = np.tanh(y)\n",
    "        # Output Layer\n",
    "        # Z = W_1 . Y\n",
    "        Z = W_1.dot(Y)\n",
    "        res = Z.T\n",
    "        # Backward Propagation:\n",
    "        # Randomly selecting a data point for SGD\n",
    "        d = np.random.choice(len(X))\n",
    "        # Calculate new W_0 \n",
    "        W_0 = calculate_W0(W_0,W_1,Y,res,d,alpha)\n",
    "        # Calculate new W_1\n",
    "        W_1 = calculate_W1(W_1,Y,res,d,alpha)\n",
    "        # Loss Calculation\n",
    "    loss = calculate_loss(X,res)\n",
    "    return loss"
   ]
  },
  {
   "cell_type": "code",
   "execution_count": 4,
   "id": "d10c9f8c",
   "metadata": {},
   "outputs": [],
   "source": [
    "def calculate_W1(W_1,Y,Z,d,alpha):\n",
    "    # Feature i\n",
    "    for i in range(W_1.shape[0]):\n",
    "        # Node j\n",
    "        for j in range(W_1.shape[1]):\n",
    "            # 2 * (Zi - Xi) * Yj\n",
    "            dW1 = 2*(Z[d,i]-X[d,i])*Y[j,d]\n",
    "            # Multiplying by 1/N\n",
    "            dW1 = dW1/5000\n",
    "            W_1[i,j] = W_1[i,j] - alpha*dW1\n",
    "    return W_1\n",
    "\n",
    "def calculate_W0(W_0,W_1,Y,Z,d,alpha):\n",
    "    # Node i\n",
    "    for i in range(W_0.shape[0]):\n",
    "        # Feature j\n",
    "        for j in range(W_0.shape[1]):\n",
    "            # Partial derivative dL/dYi is the sum of product of partial derivatives\n",
    "            c = 0\n",
    "            dY = 0\n",
    "            while(c < X.shape[1]):\n",
    "                dY = dY + 2*(Z[d,c]-X[d,c])*W_1[c,i]\n",
    "                c += 1\n",
    "            # Adding partial derivative dYi/dW\n",
    "            dY = dY + X[d,j] * ((1 - Y[i,d])**2)\n",
    "            # Multiplying by 1/N\n",
    "            dY = dY/5000\n",
    "            W_0[i,j] = W_0[i,j] - alpha * dY\n",
    "    return W_0"
   ]
  },
  {
   "cell_type": "markdown",
   "id": "2b92f0b3",
   "metadata": {},
   "source": [
    "#  Changing k"
   ]
  },
  {
   "cell_type": "code",
   "execution_count": 5,
   "id": "39bb23dc",
   "metadata": {},
   "outputs": [],
   "source": [
    "loss = []\n",
    "X = generate_data()\n",
    "for k in range(1,30):\n",
    "    loss.append(build_model(X,k,5000,0.01))"
   ]
  },
  {
   "cell_type": "code",
   "execution_count": 6,
   "id": "739a255d",
   "metadata": {},
   "outputs": [
    {
     "data": {
      "text/plain": [
       "<matplotlib.collections.PathCollection at 0x1426fa18310>"
      ]
     },
     "execution_count": 6,
     "metadata": {},
     "output_type": "execute_result"
    },
    {
     "data": {
      "image/png": "[encoded data removed]",
      "text/plain": [
       "<Figure size 432x288 with 1 Axes>"
      ]
     },
     "metadata": {
      "needs_background": "light"
     },
     "output_type": "display_data"
    }
   ],
   "source": [
    "k = [i for i in range(1,30)]\n",
    "plt.scatter(x=k, y=loss)"
   ]
  },
  {
   "cell_type": "code",
   "execution_count": 7,
   "id": "2be9c98a",
   "metadata": {
    "scrolled": true
   },
   "outputs": [
    {
     "data": {
      "text/plain": [
       "[0.5532472999233523,\n",
       " 0.5223223334886379,\n",
       " 1.0229209568608497,\n",
       " 1.7640125187128566,\n",
       " 3.2018076175666,\n",
       " 4.423314351921231,\n",
       " 5.218195959146657,\n",
       " 8.988215961919515,\n",
       " 9.072083649215054,\n",
       " 14.59994833328439,\n",
       " 13.228371646949718,\n",
       " 16.977491113571904,\n",
       " 18.618057628464552,\n",
       " 22.670469734452027,\n",
       " 21.800834857776277,\n",
       " 26.84483449021278,\n",
       " 27.47892491327285,\n",
       " 33.764149928602514,\n",
       " 32.954737291372375,\n",
       " 34.513402497045455,\n",
       " 41.31041395694054,\n",
       " 41.63805584890987,\n",
       " 43.35513318603878,\n",
       " 51.07260260653707,\n",
       " 47.78690403257662,\n",
       " 54.81396607987034,\n",
       " 53.35376552796632,\n",
       " 55.09151473491061,\n",
       " 62.65238950667708]"
      ]
     },
     "execution_count": 7,
     "metadata": {},
     "output_type": "execute_result"
    }
   ],
   "source": [
    "loss"
   ]
  },
  {
   "cell_type": "code",
   "execution_count": 8,
   "id": "31d2ec44",
   "metadata": {},
   "outputs": [],
   "source": [
    "loss = []\n",
    "X = generate_data()\n",
    "for k in range(1,30):\n",
    "    loss.append(build_model(X,k,1000,0.05))"
   ]
  },
  {
   "cell_type": "code",
   "execution_count": 9,
   "id": "b396180b",
   "metadata": {},
   "outputs": [
    {
     "data": {
      "text/plain": [
       "<matplotlib.collections.PathCollection at 0x1426f8e6b50>"
      ]
     },
     "execution_count": 9,
     "metadata": {},
     "output_type": "execute_result"
    },
    {
     "data": {
      "image/png": "[encoded data removed]",
      "text/plain": [
       "<Figure size 432x288 with 1 Axes>"
      ]
     },
     "metadata": {
      "needs_background": "light"
     },
     "output_type": "display_data"
    }
   ],
   "source": [
    "k = [i for i in range(1,30)]\n",
    "plt.scatter(x=k, y=loss)"
   ]
  },
  {
   "cell_type": "markdown",
   "id": "af46ba7e",
   "metadata": {},
   "source": [
    "# Changing Sigma"
   ]
  },
  {
   "cell_type": "code",
   "execution_count": 10,
   "id": "79dd602b",
   "metadata": {},
   "outputs": [],
   "source": [
    "loss = []\n",
    "sigmas = np.arange(0,2.1,0.1)\n",
    "for s in sigmas:\n",
    "    X = generate_data(sigma=s)\n",
    "    loss.append(build_model(X,30,5000,0.01))"
   ]
  },
  {
   "cell_type": "code",
   "execution_count": 12,
   "id": "260f6e51",
   "metadata": {},
   "outputs": [
    {
     "data": {
      "text/plain": [
       "<matplotlib.collections.PathCollection at 0x1427022e640>"
      ]
     },
     "execution_count": 12,
     "metadata": {},
     "output_type": "execute_result"
    },
    {
     "data": {
      "image/png": "[encoded data removed]",
      "text/plain": [
       "<Figure size 432x288 with 1 Axes>"
      ]
     },
     "metadata": {
      "needs_background": "light"
     },
     "output_type": "display_data"
    }
   ],
   "source": [
    "plt.scatter(x=sigmas, y=loss)"
   ]
  },
  {
   "cell_type": "markdown",
   "id": "d9ce1443",
   "metadata": {},
   "source": [
    "# Problem 2: PCA "
   ]
  },
  {
   "cell_type": "code",
   "execution_count": null,
   "id": "a778b9db",
   "metadata": {},
   "outputs": [],
   "source": [
    "def find_PC(X):\n",
    "    # XT.X\n",
    "    cov = (X.T).dot(X)\n",
    "    # Eigen values and Eigen vectors\n",
    "    return np.linalg.eig(cov)\n",
    "X = generate_data()\n",
    "evecs, evals = find_PC(X)\n",
    "print(evecs)\n",
    "print(evals)"
   ]
  },
  {
   "cell_type": "markdown",
   "id": "19200451",
   "metadata": {},
   "source": [
    "# Dimensionality of Data"
   ]
  },
  {
   "cell_type": "code",
   "execution_count": null,
   "id": "18e9d917",
   "metadata": {},
   "outputs": [],
   "source": [
    "'''\n",
    "The data has 30 principle components and the variation around them is given by the eigenvalues\n",
    "'''"
   ]
  },
  {
   "cell_type": "markdown",
   "id": "34858545",
   "metadata": {},
   "source": [
    "# Is it Robust?"
   ]
  },
  {
   "cell_type": "code",
   "execution_count": null,
   "id": "637a2a1a",
   "metadata": {},
   "outputs": [],
   "source": [
    "'''Yes'''"
   ]
  },
  {
   "cell_type": "markdown",
   "id": "6abb2c98",
   "metadata": {},
   "source": [
    "# Changing Sigma"
   ]
  },
  {
   "cell_type": "code",
   "execution_count": null,
   "id": "41f61b9d",
   "metadata": {},
   "outputs": [],
   "source": [
    "eig_vecs = []\n",
    "sigma = np.arange(0,2.25,0.25)\n",
    "for s in sigma:\n",
    "    X = generate_data(sigma=s)\n",
    "    eig_vecs.append(find_PC(X))\n",
    "print(eig_vecs)"
   ]
  },
  {
   "cell_type": "markdown",
   "id": "7ae6b0f0",
   "metadata": {},
   "source": [
    "# Problem 3: Correlation Graphs"
   ]
  },
  {
   "cell_type": "code",
   "execution_count": null,
   "id": "279b1896",
   "metadata": {},
   "outputs": [],
   "source": [
    "# SLR using SGD\n",
    "def linear_reg(X,Y,epoch,alpha):\n",
    "    # Initialize weights as random normal\n",
    "    W_0 = 0\n",
    "    W_1 = 1\n",
    "    # Go through the iterations\n",
    "    for i in range(epoch):\n",
    "        Y_hat = W_0 + W_1 * X\n",
    "        # Randomly choose a data point for SGD\n",
    "        d = np.random.choice(len(X))\n",
    "        # Find Loss = (Y_hat - Y) ^ 2\n",
    "        #print(Y_hat[d],Y[d])\n",
    "        # Update W_0 and W_1 using this data point and gradients\n",
    "        W_0 = W_0 - alpha *  2 * (Y_hat[d] - Y[d])\n",
    "        W_1 = W_1 - alpha * 2 * (Y_hat[d] - Y[d]) * X[d]\n",
    "    err = 0\n",
    "    # Return error at the end of epoch\n",
    "    for i in range(len(X)):\n",
    "        err = (Y[i] - (W_0 + W_1*X[i]))**2\n",
    "    return err"
   ]
  },
  {
   "cell_type": "code",
   "execution_count": null,
   "id": "8b072153",
   "metadata": {},
   "outputs": [],
   "source": [
    "# The predictor variable that produces the least error is considered the most correlated\n",
    "def find_most_correlated():\n",
    "    # Initialize an array for errros\n",
    "    err = np.ones((30,30))\n",
    "    # Generate data\n",
    "    X = generate_data()\n",
    "    # A dictionary to store most related index for each index\n",
    "    cor_dict = {}\n",
    "    # Go through each feature\n",
    "    for i in range(X.shape[1]):\n",
    "        # Check error with every other feature except itself\n",
    "        for j in range(X.shape[1]):\n",
    "            if(j==i):\n",
    "                continue\n",
    "            # Runs SLR using SGD and returns error at 5000 iterations\n",
    "            err[i][j] = linear_reg(X[:,i].T,X[:,j].T,5000,0.01)\n",
    "    return err\n",
    "err = find_most_correlated()\n"
   ]
  },
  {
   "cell_type": "code",
   "execution_count": null,
   "id": "f150a06a",
   "metadata": {},
   "outputs": [],
   "source": [
    "df = pd.DataFrame()\n",
    "indx = [i for i in range(1,31)]\n",
    "df['Index'] = indx\n",
    "for i in range(err.shape[0]):\n",
    "    df['X'+str(i+1)] = err[i].T"
   ]
  },
  {
   "cell_type": "code",
   "execution_count": null,
   "id": "ed9f1667",
   "metadata": {},
   "outputs": [],
   "source": [
    "df"
   ]
  }
 ],
 "metadata": {
  "kernelspec": {
   "display_name": "Python 3 (ipykernel)",
   "language": "python",
   "name": "python3"
  },
  "language_info": {
   "codemirror_mode": {
    "name": "ipython",
    "version": 3
   },
   "file_extension": ".py",
   "mimetype": "text/x-python",
   "name": "python",
   "nbconvert_exporter": "python",
   "pygments_lexer": "ipython3",
   "version": "3.9.7"
  }
 },
 "nbformat": 4,
 "nbformat_minor": 5
}
